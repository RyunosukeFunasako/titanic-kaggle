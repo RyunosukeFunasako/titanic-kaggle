{
 "cells": [
  {
   "cell_type": "markdown",
   "id": "e7d71d74",
   "metadata": {},
   "source": [
    "# Titanic\n",
    "Kaggleの[Titanic](https://www.kaggle.com/competitions/titanic/overview)問題に取り組む。与えられたデータから精度の高い乗客の生存予測モデルを構築する。その際、[Kaggleで勝つデータ分析の技術](https://www.amazon.co.jp/s?k=kaggle%E3%81%A7%E5%8B%9D%E3%81%A4%E3%83%87%E3%83%BC%E3%82%BF%E5%88%86%E6%9E%90%E3%81%AE%E6%8A%80%E8%A1%93&adgrpid=77287830145&gclid=Cj0KCQjwspKUBhCvARIsAB2IYutwvwskzyUMsH_7BhCFt1YZQMP3NhcrHUWphOAfORCbpIhG7BxFEPoaAuL9EALw_wcB&hvadid=553974449198&hvdev=c&hvlocphy=1009798&hvnetw=g&hvqmt=e&hvrand=5178349908727401306&hvtargid=kwd-818170082585&hydadcr=27492_14478797&jp-ad-ap=0&tag=googhydr-22&ref=pd_sl_3dob3l12xf_e)を参考にした。  \n",
    "![](https://i.imgur.com/rRFchA8.png)"
   ]
  },
  {
   "cell_type": "markdown",
   "id": "93639f49",
   "metadata": {},
   "source": [
    "# 目次\n",
    "0. ライブラリ・データの読み込み\n",
    "1. データの外観・分析・前処理\n",
    "2. ベースラインモデルの構築\n",
    "3. 特徴量エンジニアリング\n",
    "4. 様々なモデルの構築・調整\n",
    "5. モデルのアンサンブル\n",
    "6. 予測の出力・提出\n",
    "7. 結果\n",
    "8. 感想"
   ]
  },
  {
   "cell_type": "markdown",
   "id": "7e7157fa",
   "metadata": {},
   "source": [
    "## 0. ライブラリ・データの読み込み"
   ]
  },
  {
   "cell_type": "markdown",
   "id": "8432cce6",
   "metadata": {},
   "source": [
    "### 0.1 ライブラリの読み込み"
   ]
  },
  {
   "cell_type": "code",
   "execution_count": 1,
   "id": "9e14568d",
   "metadata": {},
   "outputs": [],
   "source": [
    "import numpy as np\n",
    "import pandas as pd\n",
    "from pandas import DataFrame, Series\n",
    "import matplotlib.pyplot as plt\n",
    "import seaborn as sns\n",
    "\n",
    "import xgboost as xgb\n",
    "from sklearn.model_selection import train_test_split, GridSearchCV\n",
    "from sklearn.ensemble import RandomForestClassifier\n",
    "from sklearn.linear_model import LogisticRegression\n",
    "from sklearn.neural_network import MLPClassifier\n",
    "\n",
    "import warnings\n",
    "warnings.filterwarnings('ignore')"
   ]
  },
  {
   "cell_type": "markdown",
   "id": "c3440203",
   "metadata": {},
   "source": [
    "### 0.2 データの読み込み"
   ]
  },
  {
   "cell_type": "code",
   "execution_count": 2,
   "id": "8b50c25b",
   "metadata": {},
   "outputs": [],
   "source": [
    "df = pd.read_csv('data/train.csv')\n",
    "df_test = pd.read_csv('data/test.csv')"
   ]
  },
  {
   "cell_type": "markdown",
   "id": "29113868",
   "metadata": {},
   "source": [
    "## 1. データの外観・分析・前処理"
   ]
  },
  {
   "cell_type": "markdown",
   "id": "cfc43716",
   "metadata": {},
   "source": [
    "### 1.1 データの外観"
   ]
  },
  {
   "cell_type": "code",
   "execution_count": 3,
   "id": "e2f993f7",
   "metadata": {},
   "outputs": [
    {
     "name": "stdout",
     "output_type": "stream",
     "text": [
      "訓練データのデータ数は891、変数は12種類\n",
      "テストデータのデータ数は418、変数は11種類\n"
     ]
    }
   ],
   "source": [
    "# データサイズの確認\n",
    "print('訓練データのデータ数は{}、変数は{}種類'.format(df.shape[0], df.shape[1]))\n",
    "print('テストデータのデータ数は{}、変数は{}種類'.format(df_test.shape[0], df_test.shape[1]))"
   ]
  },
  {
   "cell_type": "code",
   "execution_count": 4,
   "id": "827615df",
   "metadata": {},
   "outputs": [
    {
     "data": {
      "text/html": [
       "<div>\n",
       "<style scoped>\n",
       "    .dataframe tbody tr th:only-of-type {\n",
       "        vertical-align: middle;\n",
       "    }\n",
       "\n",
       "    .dataframe tbody tr th {\n",
       "        vertical-align: top;\n",
       "    }\n",
       "\n",
       "    .dataframe thead th {\n",
       "        text-align: right;\n",
       "    }\n",
       "</style>\n",
       "<table border=\"1\" class=\"dataframe\">\n",
       "  <thead>\n",
       "    <tr style=\"text-align: right;\">\n",
       "      <th></th>\n",
       "      <th>PassengerId</th>\n",
       "      <th>Survived</th>\n",
       "      <th>Pclass</th>\n",
       "      <th>Name</th>\n",
       "      <th>Sex</th>\n",
       "      <th>Age</th>\n",
       "      <th>SibSp</th>\n",
       "      <th>Parch</th>\n",
       "      <th>Ticket</th>\n",
       "      <th>Fare</th>\n",
       "      <th>Cabin</th>\n",
       "      <th>Embarked</th>\n",
       "    </tr>\n",
       "  </thead>\n",
       "  <tbody>\n",
       "    <tr>\n",
       "      <th>0</th>\n",
       "      <td>1</td>\n",
       "      <td>0</td>\n",
       "      <td>3</td>\n",
       "      <td>Braund, Mr. Owen Harris</td>\n",
       "      <td>male</td>\n",
       "      <td>22.0</td>\n",
       "      <td>1</td>\n",
       "      <td>0</td>\n",
       "      <td>A/5 21171</td>\n",
       "      <td>7.2500</td>\n",
       "      <td>NaN</td>\n",
       "      <td>S</td>\n",
       "    </tr>\n",
       "    <tr>\n",
       "      <th>1</th>\n",
       "      <td>2</td>\n",
       "      <td>1</td>\n",
       "      <td>1</td>\n",
       "      <td>Cumings, Mrs. John Bradley (Florence Briggs Th...</td>\n",
       "      <td>female</td>\n",
       "      <td>38.0</td>\n",
       "      <td>1</td>\n",
       "      <td>0</td>\n",
       "      <td>PC 17599</td>\n",
       "      <td>71.2833</td>\n",
       "      <td>C85</td>\n",
       "      <td>C</td>\n",
       "    </tr>\n",
       "    <tr>\n",
       "      <th>2</th>\n",
       "      <td>3</td>\n",
       "      <td>1</td>\n",
       "      <td>3</td>\n",
       "      <td>Heikkinen, Miss. Laina</td>\n",
       "      <td>female</td>\n",
       "      <td>26.0</td>\n",
       "      <td>0</td>\n",
       "      <td>0</td>\n",
       "      <td>STON/O2. 3101282</td>\n",
       "      <td>7.9250</td>\n",
       "      <td>NaN</td>\n",
       "      <td>S</td>\n",
       "    </tr>\n",
       "    <tr>\n",
       "      <th>3</th>\n",
       "      <td>4</td>\n",
       "      <td>1</td>\n",
       "      <td>1</td>\n",
       "      <td>Futrelle, Mrs. Jacques Heath (Lily May Peel)</td>\n",
       "      <td>female</td>\n",
       "      <td>35.0</td>\n",
       "      <td>1</td>\n",
       "      <td>0</td>\n",
       "      <td>113803</td>\n",
       "      <td>53.1000</td>\n",
       "      <td>C123</td>\n",
       "      <td>S</td>\n",
       "    </tr>\n",
       "    <tr>\n",
       "      <th>4</th>\n",
       "      <td>5</td>\n",
       "      <td>0</td>\n",
       "      <td>3</td>\n",
       "      <td>Allen, Mr. William Henry</td>\n",
       "      <td>male</td>\n",
       "      <td>35.0</td>\n",
       "      <td>0</td>\n",
       "      <td>0</td>\n",
       "      <td>373450</td>\n",
       "      <td>8.0500</td>\n",
       "      <td>NaN</td>\n",
       "      <td>S</td>\n",
       "    </tr>\n",
       "  </tbody>\n",
       "</table>\n",
       "</div>"
      ],
      "text/plain": [
       "   PassengerId  Survived  Pclass  \\\n",
       "0            1         0       3   \n",
       "1            2         1       1   \n",
       "2            3         1       3   \n",
       "3            4         1       1   \n",
       "4            5         0       3   \n",
       "\n",
       "                                                Name     Sex   Age  SibSp  \\\n",
       "0                            Braund, Mr. Owen Harris    male  22.0      1   \n",
       "1  Cumings, Mrs. John Bradley (Florence Briggs Th...  female  38.0      1   \n",
       "2                             Heikkinen, Miss. Laina  female  26.0      0   \n",
       "3       Futrelle, Mrs. Jacques Heath (Lily May Peel)  female  35.0      1   \n",
       "4                           Allen, Mr. William Henry    male  35.0      0   \n",
       "\n",
       "   Parch            Ticket     Fare Cabin Embarked  \n",
       "0      0         A/5 21171   7.2500   NaN        S  \n",
       "1      0          PC 17599  71.2833   C85        C  \n",
       "2      0  STON/O2. 3101282   7.9250   NaN        S  \n",
       "3      0            113803  53.1000  C123        S  \n",
       "4      0            373450   8.0500   NaN        S  "
      ]
     },
     "execution_count": 4,
     "metadata": {},
     "output_type": "execute_result"
    }
   ],
   "source": [
    "# 訓練データの初めの5データ\n",
    "df.head()"
   ]
  },
  {
   "cell_type": "code",
   "execution_count": 5,
   "id": "06e5f39c",
   "metadata": {},
   "outputs": [
    {
     "data": {
      "text/plain": [
       "Index(['PassengerId', 'Survived', 'Pclass', 'Name', 'Sex', 'Age', 'SibSp',\n",
       "       'Parch', 'Ticket', 'Fare', 'Cabin', 'Embarked'],\n",
       "      dtype='object')"
      ]
     },
     "execution_count": 5,
     "metadata": {},
     "output_type": "execute_result"
    }
   ],
   "source": [
    "# 変数名の一覧\n",
    "df.columns"
   ]
  },
  {
   "cell_type": "markdown",
   "id": "b184bf9f",
   "metadata": {},
   "source": [
    "変数名を[Data Dictionary](https://www.kaggle.com/competitions/titanic/data)に示された変数の説明と対応づける。"
   ]
  },
  {
   "cell_type": "markdown",
   "id": "6f2eca0a",
   "metadata": {},
   "source": [
    "Variable | Definition | Key\n",
    "---|---|---\n",
    "survival | Survival | 0 = No, 1 = Yes\n",
    "pclass | Ticket class | 1 = 1st, 2 = 2nd, 3 = 3rd\n",
    "sex | Sex\n",
    "Age | Age in years\n",
    "sibsp | # of siblings / spouses aboard the Titanic\n",
    "parch | # of parents / children aboard the Titanic\n",
    "ticket | Ticket number\n",
    "fare | Passenger fare\n",
    "cabin | Cabin number\n",
    "embarked | Port of Embarkation | C = Cherbourg, Q = Queenstown, S = Southampton"
   ]
  },
  {
   "cell_type": "markdown",
   "id": "3cdc0d66",
   "metadata": {},
   "source": [
    "### 1.2 データの分析"
   ]
  },
  {
   "cell_type": "code",
   "execution_count": 6,
   "id": "2b5c308b",
   "metadata": {},
   "outputs": [
    {
     "name": "stdout",
     "output_type": "stream",
     "text": [
      "<class 'pandas.core.frame.DataFrame'>\n",
      "RangeIndex: 891 entries, 0 to 890\n",
      "Data columns (total 12 columns):\n",
      " #   Column       Non-Null Count  Dtype  \n",
      "---  ------       --------------  -----  \n",
      " 0   PassengerId  891 non-null    int64  \n",
      " 1   Survived     891 non-null    int64  \n",
      " 2   Pclass       891 non-null    int64  \n",
      " 3   Name         891 non-null    object \n",
      " 4   Sex          891 non-null    object \n",
      " 5   Age          714 non-null    float64\n",
      " 6   SibSp        891 non-null    int64  \n",
      " 7   Parch        891 non-null    int64  \n",
      " 8   Ticket       891 non-null    object \n",
      " 9   Fare         891 non-null    float64\n",
      " 10  Cabin        204 non-null    object \n",
      " 11  Embarked     889 non-null    object \n",
      "dtypes: float64(2), int64(5), object(5)\n",
      "memory usage: 83.7+ KB\n"
     ]
    }
   ],
   "source": [
    "# データの型の確認\n",
    "df.info()"
   ]
  },
  {
   "cell_type": "markdown",
   "id": "b6b0652c",
   "metadata": {},
   "source": [
    "数値データ：Passengerld, Survived, Pclass, Age, SibSp, Parch, Fare  \n",
    "カテゴリカルデータ：Name, Sex, Ticket, Cabin, Embarked"
   ]
  },
  {
   "cell_type": "code",
   "execution_count": 7,
   "id": "6c33286e",
   "metadata": {},
   "outputs": [
    {
     "data": {
      "text/plain": [
       "PassengerId      0\n",
       "Survived         0\n",
       "Pclass           0\n",
       "Name             0\n",
       "Sex              0\n",
       "Age            177\n",
       "SibSp            0\n",
       "Parch            0\n",
       "Ticket           0\n",
       "Fare             0\n",
       "Cabin          687\n",
       "Embarked         2\n",
       "dtype: int64"
      ]
     },
     "execution_count": 7,
     "metadata": {},
     "output_type": "execute_result"
    }
   ],
   "source": [
    "# 欠損値の確認\n",
    "df.isnull().sum()"
   ]
  },
  {
   "cell_type": "markdown",
   "id": "f150cfff",
   "metadata": {},
   "source": [
    "訓練データはAge, Cabin, Embarkedの値の一部が欠損していることがわかる。"
   ]
  },
  {
   "cell_type": "code",
   "execution_count": 8,
   "id": "8269a32e",
   "metadata": {},
   "outputs": [
    {
     "data": {
      "text/plain": [
       "PassengerId      0\n",
       "Pclass           0\n",
       "Name             0\n",
       "Sex              0\n",
       "Age             86\n",
       "SibSp            0\n",
       "Parch            0\n",
       "Ticket           0\n",
       "Fare             1\n",
       "Cabin          327\n",
       "Embarked         0\n",
       "dtype: int64"
      ]
     },
     "execution_count": 8,
     "metadata": {},
     "output_type": "execute_result"
    }
   ],
   "source": [
    "# 欠損値の確認\n",
    "df_test.isnull().sum()"
   ]
  },
  {
   "cell_type": "markdown",
   "id": "3572368d",
   "metadata": {},
   "source": [
    "テストデータはAge, Fare, Cabinの値の一部が欠損していることがわかる。"
   ]
  },
  {
   "cell_type": "code",
   "execution_count": 9,
   "id": "22d22ae8",
   "metadata": {},
   "outputs": [
    {
     "data": {
      "image/png": "[encoded data removed]",
      "text/plain": [
       "<Figure size 1296x576 with 2 Axes>"
      ]
     },
     "metadata": {
      "needs_background": "light"
     },
     "output_type": "display_data"
    }
   ],
   "source": [
    "# Survived\n",
    "f,ax=plt.subplots(1,2,figsize=(18,8))\n",
    "df['Survived'].value_counts().plot.pie(explode=[0,0.1],autopct='%1.1f%%',ax=ax[0],shadow=True)\n",
    "ax[0].set_title('Survived')\n",
    "ax[0].set_ylabel('')\n",
    "sns.countplot('Survived',data=df,ax=ax[1])\n",
    "ax[1].set_title('Survived')\n",
    "plt.show()"
   ]
  },
  {
   "cell_type": "markdown",
   "id": "84da5111",
   "metadata": {},
   "source": [
    "生存率は38.4%であることがわかる。予測対象であるSurvivedは生存：死亡がおよそ4：6と均衡しているといえる。"
   ]
  },
  {
   "cell_type": "code",
   "execution_count": 10,
   "id": "e247ac51",
   "metadata": {},
   "outputs": [
    {
     "data": {
      "image/png": "[encoded data removed]",
      "text/plain": [
       "<Figure size 1296x576 with 2 Axes>"
      ]
     },
     "metadata": {
      "needs_background": "light"
     },
     "output_type": "display_data"
    }
   ],
   "source": [
    "# Pclass\n",
    "f,ax=plt.subplots(1,2,figsize=(18,8))\n",
    "df['Pclass'].value_counts().plot.bar(color=['#CD7F32','#FFDF00','#D3D3D3'],ax=ax[0])\n",
    "ax[0].set_title('Number of Passengers By Pclass')\n",
    "ax[0].set_ylabel('Count')\n",
    "sns.countplot('Pclass',hue='Survived',data=df,ax=ax[1])\n",
    "ax[1].set_title('Pclass:Survived vs Dead')\n",
    "plt.show()"
   ]
  },
  {
   "cell_type": "markdown",
   "id": "614b4925",
   "metadata": {},
   "source": [
    "Pclassごとに人数及び死亡率が異なっていることがわかる。特にPclass=3は人数が圧倒的に多く、死亡率も高いことがわかる。一方でPclass=1は死亡率が非常に低くなっている。Pclassはチケットのクラスであることから、Pclassの値が小さいほどチケットのグレードが高いことを示唆している。"
   ]
  },
  {
   "cell_type": "code",
   "execution_count": 11,
   "id": "fdfc84f4",
   "metadata": {},
   "outputs": [
    {
     "data": {
      "image/png": "[encoded data removed]",
      "text/plain": [
       "<Figure size 1296x576 with 2 Axes>"
      ]
     },
     "metadata": {
      "needs_background": "light"
     },
     "output_type": "display_data"
    }
   ],
   "source": [
    "# Age\n",
    "f,ax=plt.subplots(1,2,figsize=(18,8))\n",
    "sns.violinplot('Pclass','Age', hue='Survived', data=df,split=True,ax=ax[0])\n",
    "ax[0].set_title('Pclass and Age vs Survived')\n",
    "ax[0].set_yticks(range(0,110,10))\n",
    "sns.violinplot('Sex','Age', hue='Survived', data=df,split=True,ax=ax[1])\n",
    "ax[1].set_title('Sex and Age vs Survived')\n",
    "ax[1].set_yticks(range(0,110,10))\n",
    "plt.show()"
   ]
  },
  {
   "cell_type": "markdown",
   "id": "7f191675",
   "metadata": {},
   "source": [
    "10歳以下の子供の数はPclassの値が増えるごとに増加し、生存率はPclassに関係なく良好であることがわかる。20~50歳の女性の生存率が高いことがわかる。"
   ]
  },
  {
   "cell_type": "code",
   "execution_count": 12,
   "id": "0a6d42b2",
   "metadata": {},
   "outputs": [
    {
     "data": {
      "image/png": "[encoded data removed]",
      "text/plain": [
       "<Figure size 1296x576 with 2 Axes>"
      ]
     },
     "metadata": {
      "needs_background": "light"
     },
     "output_type": "display_data"
    }
   ],
   "source": [
    "# SibSp\n",
    "f,ax=plt.subplots(1,2,figsize=(18,8))\n",
    "sns.barplot('SibSp','Survived',data=df,ax=ax[0])\n",
    "ax[0].set_title('SibSp vs Survived')\n",
    "sns.pointplot('SibSp','Survived',data=df,ax=ax[1])\n",
    "ax[1].set_title('SibSp vs Survived')\n",
    "plt.show()"
   ]
  },
  {
   "cell_type": "markdown",
   "id": "3336edfa",
   "metadata": {},
   "source": [
    "兄弟姉妹・配偶者がいない乗客の生存率はおよそ35%であることがわかる。  \n",
    "兄弟姉妹・配偶者が5~8人同乗している場合、生存率が0%であることがわかる。  \n",
    "また、兄弟姉妹・配偶者の数が増えると、グラフは減少することがわかる。  "
   ]
  },
  {
   "cell_type": "code",
   "execution_count": 13,
   "id": "286c3a84",
   "metadata": {},
   "outputs": [
    {
     "data": {
      "image/png": "[encoded data removed]",
      "text/plain": [
       "<Figure size 1296x576 with 2 Axes>"
      ]
     },
     "metadata": {
      "needs_background": "light"
     },
     "output_type": "display_data"
    }
   ],
   "source": [
    "# Parch\n",
    "f,ax=plt.subplots(1,2,figsize=(18,8))\n",
    "sns.barplot('Parch','Survived',data=df,ax=ax[0])\n",
    "ax[0].set_title('Parch vs Survived')\n",
    "sns.pointplot('Parch','Survived',data=df,ax=ax[1])\n",
    "ax[1].set_title('Parch vs Survived')\n",
    "plt.show()"
   ]
  },
  {
   "cell_type": "markdown",
   "id": "a358ec40",
   "metadata": {},
   "source": [
    "親・子供が4~6人同乗している場合を除いて、親・子供が同乗している乗客の方が生存率が高いことがわかる。4人以上の親・子供が同乗していると生存の可能性が減少することがわかる。 "
   ]
  },
  {
   "cell_type": "code",
   "execution_count": 14,
   "id": "b2cbf107",
   "metadata": {},
   "outputs": [
    {
     "data": {
      "image/png": "[encoded data removed]",
      "text/plain": [
       "<Figure size 1296x576 with 3 Axes>"
      ]
     },
     "metadata": {
      "needs_background": "light"
     },
     "output_type": "display_data"
    }
   ],
   "source": [
    "# Fare\n",
    "f,ax=plt.subplots(1,3,figsize=(18,8))\n",
    "sns.distplot(df[df['Pclass']==1].Fare,ax=ax[0])\n",
    "ax[0].set_title('Fares in Pclass 1')\n",
    "sns.distplot(df[df['Pclass']==2].Fare,ax=ax[1])\n",
    "ax[1].set_title('Fares in Pclass 2')\n",
    "sns.distplot(df[df['Pclass']==3].Fare,ax=ax[2])\n",
    "ax[2].set_title('Fares in Pclass 3')\n",
    "plt.show()"
   ]
  },
  {
   "cell_type": "markdown",
   "id": "2197f407",
   "metadata": {},
   "source": [
    "Pclass=1の乗客の運賃には大きな分布があり、Pclassの値が大きくなるほど、分布が小さくなっていることがわかる。"
   ]
  },
  {
   "cell_type": "code",
   "execution_count": 15,
   "id": "81a040a6",
   "metadata": {},
   "outputs": [
    {
     "data": {
      "text/plain": [
       "891"
      ]
     },
     "execution_count": 15,
     "metadata": {},
     "output_type": "execute_result"
    }
   ],
   "source": [
    "# Name\n",
    "df['Name'].count()"
   ]
  },
  {
   "cell_type": "code",
   "execution_count": 16,
   "id": "edfc7452",
   "metadata": {},
   "outputs": [
    {
     "data": {
      "text/plain": [
       "891"
      ]
     },
     "execution_count": 16,
     "metadata": {},
     "output_type": "execute_result"
    }
   ],
   "source": [
    "len(df['Name'].unique())"
   ]
  },
  {
   "cell_type": "markdown",
   "id": "dfcd338d",
   "metadata": {},
   "source": [
    "count数の値とunique数の値が同じであることがわかる。"
   ]
  },
  {
   "cell_type": "code",
   "execution_count": 17,
   "id": "2db23fcb",
   "metadata": {},
   "outputs": [
    {
     "data": {
      "image/png": "[encoded data removed]",
      "text/plain": [
       "<Figure size 1296x576 with 2 Axes>"
      ]
     },
     "metadata": {
      "needs_background": "light"
     },
     "output_type": "display_data"
    }
   ],
   "source": [
    "# Sex\n",
    "f,ax=plt.subplots(1,2,figsize=(18,8))\n",
    "df[['Sex','Survived']].groupby(['Sex']).mean().plot.bar(ax=ax[0])\n",
    "ax[0].set_title('Survived vs Sex')\n",
    "sns.countplot('Sex',hue='Survived',data=df,ax=ax[1])\n",
    "ax[1].set_title('Sex:Survived vs Dead')\n",
    "plt.show()"
   ]
  },
  {
   "cell_type": "markdown",
   "id": "00a4c998",
   "metadata": {},
   "source": [
    "男性の方が女性よりもはるかに多くの数の人が乗船しているにも関わらず、生存した女性の数は男性の数のおよそ2倍であることがわかる。"
   ]
  },
  {
   "cell_type": "code",
   "execution_count": 18,
   "id": "015cd4ab",
   "metadata": {},
   "outputs": [
    {
     "data": {
      "text/plain": [
       "891"
      ]
     },
     "execution_count": 18,
     "metadata": {},
     "output_type": "execute_result"
    }
   ],
   "source": [
    "# Ticket\n",
    "df['Ticket'].count()"
   ]
  },
  {
   "cell_type": "code",
   "execution_count": 19,
   "id": "69461cdf",
   "metadata": {},
   "outputs": [
    {
     "data": {
      "text/plain": [
       "681"
      ]
     },
     "execution_count": 19,
     "metadata": {},
     "output_type": "execute_result"
    }
   ],
   "source": [
    "len(df['Ticket'].unique())"
   ]
  },
  {
   "cell_type": "markdown",
   "id": "78f942d7",
   "metadata": {},
   "source": [
    "count数の値とunique数の値が同じでないため、完全にユニークではないことがわかる。"
   ]
  },
  {
   "cell_type": "code",
   "execution_count": 20,
   "id": "13e88f45",
   "metadata": {},
   "outputs": [
    {
     "data": {
      "text/plain": [
       "204"
      ]
     },
     "execution_count": 20,
     "metadata": {},
     "output_type": "execute_result"
    }
   ],
   "source": [
    "# Cabin\n",
    "df['Cabin'].count()"
   ]
  },
  {
   "cell_type": "code",
   "execution_count": 21,
   "id": "6dc2f0e4",
   "metadata": {},
   "outputs": [
    {
     "data": {
      "text/plain": [
       "148"
      ]
     },
     "execution_count": 21,
     "metadata": {},
     "output_type": "execute_result"
    }
   ],
   "source": [
    "len(df['Cabin'].unique())"
   ]
  },
  {
   "cell_type": "markdown",
   "id": "872e286a",
   "metadata": {},
   "source": [
    "count数の値とunique数の値が同じでないため、完全にユニークではないことがわかる。"
   ]
  },
  {
   "cell_type": "code",
   "execution_count": 22,
   "id": "aa794393",
   "metadata": {},
   "outputs": [
    {
     "data": {
      "image/png": "[encoded data removed]",
      "text/plain": [
       "<Figure size 1296x576 with 3 Axes>"
      ]
     },
     "metadata": {
      "needs_background": "light"
     },
     "output_type": "display_data"
    }
   ],
   "source": [
    "# Embarked\n",
    "f,ax=plt.subplots(1,3,figsize=(18,8))\n",
    "sns.countplot('Embarked',hue='Sex',data=df,ax=ax[0])\n",
    "ax[0].set_title('Male-Female Split for Embarked')\n",
    "sns.countplot('Embarked',hue='Survived',data=df,ax=ax[1])\n",
    "ax[1].set_title('Embarked vs Survived')\n",
    "sns.countplot('Embarked',hue='Pclass',data=df,ax=ax[2])\n",
    "ax[2].set_title('Embarked vs Pclass')\n",
    "plt.subplots_adjust(wspace=0.2,hspace=0.5)\n",
    "plt.show()"
   ]
  },
  {
   "cell_type": "code",
   "execution_count": 23,
   "id": "601eb7e1",
   "metadata": {},
   "outputs": [
    {
     "data": {
      "image/png": "[encoded data removed]",
      "text/plain": [
       "<Figure size 1150.5x360 with 3 Axes>"
      ]
     },
     "metadata": {
      "needs_background": "light"
     },
     "output_type": "display_data"
    }
   ],
   "source": [
    "sns.factorplot('Pclass','Survived',hue='Sex',col='Embarked',data=df)\n",
    "plt.show()"
   ]
  },
  {
   "cell_type": "markdown",
   "id": "4b5336da",
   "metadata": {},
   "source": [
    "Embarkedの値がS, C, Qの順に乗客が多いことがわかる。  \n",
    "Embarked=Sは男女ともに生存率が低いことがわかる。  \n",
    "Embarked=SはほとんどがPclass=3であることがわかる。  \n",
    "Pclass=1, 2ではEmbarkedの値に関係なく女性の生存率はおよそ1であることがわかる。  "
   ]
  },
  {
   "cell_type": "code",
   "execution_count": 24,
   "id": "aab0a09b",
   "metadata": {},
   "outputs": [
    {
     "data": {
      "image/png": "[encoded data removed]",
      "text/plain": [
       "<Figure size 720x576 with 2 Axes>"
      ]
     },
     "metadata": {
      "needs_background": "light"
     },
     "output_type": "display_data"
    }
   ],
   "source": [
    "# 相関行列\n",
    "sns.heatmap(df.corr(),annot=True,cmap='bwr',linewidths=0.2)\n",
    "fig=plt.gcf()\n",
    "fig.set_size_inches(10,8)\n",
    "plt.show()"
   ]
  },
  {
   "cell_type": "markdown",
   "id": "0b86cf0a",
   "metadata": {},
   "source": [
    "SibSpとParchの値に比較的強い正の相関があることがわかる。  \n",
    "PclassとFareの値に比較的強い負の相関があることがわかる。"
   ]
  },
  {
   "cell_type": "markdown",
   "id": "eaf7b7b1",
   "metadata": {},
   "source": [
    "### 1.3 データの前処理"
   ]
  },
  {
   "cell_type": "markdown",
   "id": "a7f9f943",
   "metadata": {},
   "source": [
    "#### 1.3.1 欠損値の補完"
   ]
  },
  {
   "cell_type": "markdown",
   "id": "f950132b",
   "metadata": {},
   "source": [
    "Age：敬称ごとの年齢の平均値で補完する。"
   ]
  },
  {
   "cell_type": "code",
   "execution_count": 25,
   "id": "7af4b2a8",
   "metadata": {},
   "outputs": [
    {
     "name": "stdout",
     "output_type": "stream",
     "text": [
      "{'Capt.', 'Mrs.', 'Dr.', 'Mr.', 'Ms.', 'Lady.', 'Countess.', 'Mlle.', 'Miss.', 'Col.', 'Sir.', 'Master.', 'Rev.', 'Mme.', 'Major.', 'Don.', 'Jonkheer.'}\n"
     ]
    }
   ],
   "source": [
    "# Nameから敬称を取り出す\n",
    "title_list = []\n",
    "\n",
    "for name in df[\"Name\"]:\n",
    "    for name_split in name.split():\n",
    "        if name_split.endswith(\".\") == True:\n",
    "            if name_split != \"L.\":\n",
    "                title_list.append(name_split)\n",
    "\n",
    "title_unique = set(title_list)      \n",
    "\n",
    "print(title_unique)"
   ]
  },
  {
   "cell_type": "code",
   "execution_count": 26,
   "id": "49a8f8e4",
   "metadata": {
    "scrolled": true
   },
   "outputs": [
    {
     "data": {
      "text/plain": [
       "<AxesSubplot:xlabel='Title', ylabel='Survived'>"
      ]
     },
     "execution_count": 26,
     "metadata": {},
     "output_type": "execute_result"
    },
    {
     "data": {
      "image/png": "[encoded data removed]",
      "text/plain": [
       "<Figure size 432x288 with 1 Axes>"
      ]
     },
     "metadata": {
      "needs_background": "light"
     },
     "output_type": "display_data"
    }
   ],
   "source": [
    "# Nameから新たな特徴量Titleを作り出す\n",
    "df['Title'] = df['Name'].map(lambda x: x.split(', ')[1].split('. ')[0])\n",
    "df['Title'].replace(['Capt', 'Col', 'Major', 'Dr', 'Rev'], 'Officer', inplace=True)\n",
    "df['Title'].replace(['Don', 'Sir',  'the Countess', 'Lady', 'Dona', 'Jonkheer'], 'Royalty', inplace=True)\n",
    "df['Title'].replace(['Mme', 'Ms'], 'Mrs', inplace=True)\n",
    "df['Title'].replace(['Mlle'], 'Miss', inplace=True)\n",
    "sns.barplot(x='Title', y='Survived', data=df, palette='Set3')"
   ]
  },
  {
   "cell_type": "code",
   "execution_count": 27,
   "id": "0da8ef40",
   "metadata": {},
   "outputs": [],
   "source": [
    "# Nameから新たな特徴量Titleを作り出す\n",
    "df_test['Title'] = df_test['Name'].map(lambda x: x.split(', ')[1].split('. ')[0])\n",
    "df_test['Title'].replace(['Capt', 'Col', 'Major', 'Dr', 'Rev'], 'Officer', inplace=True)\n",
    "df_test['Title'].replace(['Don', 'Sir',  'the Countess', 'Lady', 'Dona', 'Jonkheer'], 'Royalty', inplace=True)\n",
    "df_test['Title'].replace(['Mme', 'Ms'], 'Mrs', inplace=True)\n",
    "df_test['Title'].replace(['Mlle'], 'Miss', inplace=True)"
   ]
  },
  {
   "cell_type": "code",
   "execution_count": 28,
   "id": "c6221f98",
   "metadata": {},
   "outputs": [],
   "source": [
    "# TitleごとのAgeの平均値を代入\n",
    "df.loc[df['Age'].isnull(), 'Age'] = df.groupby('Title')['Age'].transform('mean')\n",
    "df_test.loc[df_test['Age'].isnull(), 'Age'] = df_test.groupby('Title')['Age'].transform('mean')"
   ]
  },
  {
   "cell_type": "markdown",
   "id": "83baa334",
   "metadata": {},
   "source": [
    "Fare：PclassごとのFareの平均値で補完する。"
   ]
  },
  {
   "cell_type": "code",
   "execution_count": 29,
   "id": "90ad6854",
   "metadata": {},
   "outputs": [],
   "source": [
    "# PclassごとのFareの平均値を代入\n",
    "df_test.loc[df_test['Fare'].isnull(), 'Fare'] = df_test.groupby('Pclass')['Fare'].transform('mean')"
   ]
  },
  {
   "cell_type": "markdown",
   "id": "3493aa82",
   "metadata": {},
   "source": [
    "Cabin：欠損値の数が全体の8割近いため、削除する。"
   ]
  },
  {
   "cell_type": "code",
   "execution_count": 30,
   "id": "a157cf09",
   "metadata": {},
   "outputs": [],
   "source": [
    "# Cabinを削除\n",
    "df.drop('Cabin', axis=1, inplace=True)\n",
    "df_test.drop('Cabin', axis=1, inplace=True)"
   ]
  },
  {
   "cell_type": "markdown",
   "id": "ff78c623",
   "metadata": {},
   "source": [
    "Embarked：Sが圧倒的に多いため、Sで補完する。"
   ]
  },
  {
   "cell_type": "code",
   "execution_count": 31,
   "id": "d45c2d0f",
   "metadata": {},
   "outputs": [],
   "source": [
    "# Sを代入\n",
    "df['Embarked'].fillna('S', inplace=True)\n",
    "df_test['Embarked'].fillna('S', inplace=True)"
   ]
  },
  {
   "cell_type": "markdown",
   "id": "ea3738d3",
   "metadata": {},
   "source": [
    "#### 1.3.2 カテゴリカルデータの処理"
   ]
  },
  {
   "cell_type": "markdown",
   "id": "640985fc",
   "metadata": {},
   "source": [
    "Name：Title(敬称)を用いてOne-Hot Encodingをする。"
   ]
  },
  {
   "cell_type": "code",
   "execution_count": 32,
   "id": "2cdfb04c",
   "metadata": {},
   "outputs": [],
   "source": [
    "title = pd.concat([df['Title'], df_test['Title']])\n",
    "title_ohe = pd.get_dummies(title)\n",
    "\n",
    "title_ohe_train = title_ohe[:891]\n",
    "title_ohe_test = title_ohe[891:]\n",
    "\n",
    "df = pd.concat([df, title_ohe_train], axis=1)\n",
    "df_test = pd.concat([df_test, title_ohe_test], axis=1)\n",
    "\n",
    "df.drop('Name', axis=1, inplace=True)\n",
    "df_test.drop('Name', axis=1, inplace=True)\n",
    "df.drop('Title', axis=1, inplace=True)\n",
    "df_test.drop('Title', axis=1, inplace=True)"
   ]
  },
  {
   "cell_type": "markdown",
   "id": "98173c5a",
   "metadata": {},
   "source": [
    "Sex：男性を0、女性を1に変換する。"
   ]
  },
  {
   "cell_type": "code",
   "execution_count": 33,
   "id": "4f9835c0",
   "metadata": {},
   "outputs": [],
   "source": [
    "df.replace({'Sex': {'male': 0, 'female': 1}}, inplace=True)\n",
    "df_test.replace({'Sex': {'male': 0, 'female': 1}}, inplace=True)"
   ]
  },
  {
   "cell_type": "markdown",
   "id": "b0aa26a6",
   "metadata": {},
   "source": [
    "Ticket：Ticketの値が同じ場合、1つのグループだと仮定して新たな特徴量Groupを作り出す。  \n",
    "Groupを用いてFalseを0、Trueを1に変換する。"
   ]
  },
  {
   "cell_type": "code",
   "execution_count": 34,
   "id": "0eb2e28c",
   "metadata": {},
   "outputs": [],
   "source": [
    "df['Group'] = df.duplicated(subset=['Ticket'])\n",
    "df_test['Group'] = df_test.duplicated(subset=['Ticket'])\n",
    "df['Group'] = df['Group'].astype(int)\n",
    "df_test['Group'] = df_test['Group'].astype(int)\n",
    "\n",
    "df.drop('Ticket', axis=1, inplace=True)\n",
    "df_test.drop('Ticket', axis=1, inplace=True)"
   ]
  },
  {
   "cell_type": "markdown",
   "id": "8f4283fe",
   "metadata": {},
   "source": [
    "Embarked：One-Hot Encodingをする。"
   ]
  },
  {
   "cell_type": "code",
   "execution_count": 35,
   "id": "2686b13a",
   "metadata": {},
   "outputs": [],
   "source": [
    "embarked = pd.concat([df['Embarked'], df_test['Embarked']])\n",
    "\n",
    "embarked_ohe = pd.get_dummies(embarked)\n",
    "\n",
    "embarked_ohe_train = embarked_ohe[:891]\n",
    "embarked_ohe_test = embarked_ohe[891:]\n",
    "\n",
    "df = pd.concat([df, embarked_ohe_train], axis=1)\n",
    "df_test = pd.concat([df_test, embarked_ohe_test], axis=1)\n",
    "\n",
    "df.drop('Embarked', axis=1, inplace=True)\n",
    "df_test.drop('Embarked', axis=1, inplace=True)"
   ]
  },
  {
   "cell_type": "code",
   "execution_count": 36,
   "id": "6bb14968",
   "metadata": {},
   "outputs": [
    {
     "data": {
      "text/html": [
       "<div>\n",
       "<style scoped>\n",
       "    .dataframe tbody tr th:only-of-type {\n",
       "        vertical-align: middle;\n",
       "    }\n",
       "\n",
       "    .dataframe tbody tr th {\n",
       "        vertical-align: top;\n",
       "    }\n",
       "\n",
       "    .dataframe thead th {\n",
       "        text-align: right;\n",
       "    }\n",
       "</style>\n",
       "<table border=\"1\" class=\"dataframe\">\n",
       "  <thead>\n",
       "    <tr style=\"text-align: right;\">\n",
       "      <th></th>\n",
       "      <th>PassengerId</th>\n",
       "      <th>Survived</th>\n",
       "      <th>Pclass</th>\n",
       "      <th>Sex</th>\n",
       "      <th>Age</th>\n",
       "      <th>SibSp</th>\n",
       "      <th>Parch</th>\n",
       "      <th>Fare</th>\n",
       "      <th>Master</th>\n",
       "      <th>Miss</th>\n",
       "      <th>Mr</th>\n",
       "      <th>Mrs</th>\n",
       "      <th>Officer</th>\n",
       "      <th>Royalty</th>\n",
       "      <th>Group</th>\n",
       "      <th>C</th>\n",
       "      <th>Q</th>\n",
       "      <th>S</th>\n",
       "    </tr>\n",
       "  </thead>\n",
       "  <tbody>\n",
       "    <tr>\n",
       "      <th>0</th>\n",
       "      <td>1</td>\n",
       "      <td>0</td>\n",
       "      <td>3</td>\n",
       "      <td>0</td>\n",
       "      <td>22.0</td>\n",
       "      <td>1</td>\n",
       "      <td>0</td>\n",
       "      <td>7.2500</td>\n",
       "      <td>0</td>\n",
       "      <td>0</td>\n",
       "      <td>1</td>\n",
       "      <td>0</td>\n",
       "      <td>0</td>\n",
       "      <td>0</td>\n",
       "      <td>0</td>\n",
       "      <td>0</td>\n",
       "      <td>0</td>\n",
       "      <td>1</td>\n",
       "    </tr>\n",
       "    <tr>\n",
       "      <th>1</th>\n",
       "      <td>2</td>\n",
       "      <td>1</td>\n",
       "      <td>1</td>\n",
       "      <td>1</td>\n",
       "      <td>38.0</td>\n",
       "      <td>1</td>\n",
       "      <td>0</td>\n",
       "      <td>71.2833</td>\n",
       "      <td>0</td>\n",
       "      <td>0</td>\n",
       "      <td>0</td>\n",
       "      <td>1</td>\n",
       "      <td>0</td>\n",
       "      <td>0</td>\n",
       "      <td>0</td>\n",
       "      <td>1</td>\n",
       "      <td>0</td>\n",
       "      <td>0</td>\n",
       "    </tr>\n",
       "    <tr>\n",
       "      <th>2</th>\n",
       "      <td>3</td>\n",
       "      <td>1</td>\n",
       "      <td>3</td>\n",
       "      <td>1</td>\n",
       "      <td>26.0</td>\n",
       "      <td>0</td>\n",
       "      <td>0</td>\n",
       "      <td>7.9250</td>\n",
       "      <td>0</td>\n",
       "      <td>1</td>\n",
       "      <td>0</td>\n",
       "      <td>0</td>\n",
       "      <td>0</td>\n",
       "      <td>0</td>\n",
       "      <td>0</td>\n",
       "      <td>0</td>\n",
       "      <td>0</td>\n",
       "      <td>1</td>\n",
       "    </tr>\n",
       "    <tr>\n",
       "      <th>3</th>\n",
       "      <td>4</td>\n",
       "      <td>1</td>\n",
       "      <td>1</td>\n",
       "      <td>1</td>\n",
       "      <td>35.0</td>\n",
       "      <td>1</td>\n",
       "      <td>0</td>\n",
       "      <td>53.1000</td>\n",
       "      <td>0</td>\n",
       "      <td>0</td>\n",
       "      <td>0</td>\n",
       "      <td>1</td>\n",
       "      <td>0</td>\n",
       "      <td>0</td>\n",
       "      <td>0</td>\n",
       "      <td>0</td>\n",
       "      <td>0</td>\n",
       "      <td>1</td>\n",
       "    </tr>\n",
       "    <tr>\n",
       "      <th>4</th>\n",
       "      <td>5</td>\n",
       "      <td>0</td>\n",
       "      <td>3</td>\n",
       "      <td>0</td>\n",
       "      <td>35.0</td>\n",
       "      <td>0</td>\n",
       "      <td>0</td>\n",
       "      <td>8.0500</td>\n",
       "      <td>0</td>\n",
       "      <td>0</td>\n",
       "      <td>1</td>\n",
       "      <td>0</td>\n",
       "      <td>0</td>\n",
       "      <td>0</td>\n",
       "      <td>0</td>\n",
       "      <td>0</td>\n",
       "      <td>0</td>\n",
       "      <td>1</td>\n",
       "    </tr>\n",
       "  </tbody>\n",
       "</table>\n",
       "</div>"
      ],
      "text/plain": [
       "   PassengerId  Survived  Pclass  Sex   Age  SibSp  Parch     Fare  Master  \\\n",
       "0            1         0       3    0  22.0      1      0   7.2500       0   \n",
       "1            2         1       1    1  38.0      1      0  71.2833       0   \n",
       "2            3         1       3    1  26.0      0      0   7.9250       0   \n",
       "3            4         1       1    1  35.0      1      0  53.1000       0   \n",
       "4            5         0       3    0  35.0      0      0   8.0500       0   \n",
       "\n",
       "   Miss  Mr  Mrs  Officer  Royalty  Group  C  Q  S  \n",
       "0     0   1    0        0        0      0  0  0  1  \n",
       "1     0   0    1        0        0      0  1  0  0  \n",
       "2     1   0    0        0        0      0  0  0  1  \n",
       "3     0   0    1        0        0      0  0  0  1  \n",
       "4     0   1    0        0        0      0  0  0  1  "
      ]
     },
     "execution_count": 36,
     "metadata": {},
     "output_type": "execute_result"
    }
   ],
   "source": [
    "df.head()"
   ]
  },
  {
   "cell_type": "code",
   "execution_count": 37,
   "id": "328e7a74",
   "metadata": {},
   "outputs": [
    {
     "data": {
      "text/html": [
       "<div>\n",
       "<style scoped>\n",
       "    .dataframe tbody tr th:only-of-type {\n",
       "        vertical-align: middle;\n",
       "    }\n",
       "\n",
       "    .dataframe tbody tr th {\n",
       "        vertical-align: top;\n",
       "    }\n",
       "\n",
       "    .dataframe thead th {\n",
       "        text-align: right;\n",
       "    }\n",
       "</style>\n",
       "<table border=\"1\" class=\"dataframe\">\n",
       "  <thead>\n",
       "    <tr style=\"text-align: right;\">\n",
       "      <th></th>\n",
       "      <th>PassengerId</th>\n",
       "      <th>Pclass</th>\n",
       "      <th>Sex</th>\n",
       "      <th>Age</th>\n",
       "      <th>SibSp</th>\n",
       "      <th>Parch</th>\n",
       "      <th>Fare</th>\n",
       "      <th>Master</th>\n",
       "      <th>Miss</th>\n",
       "      <th>Mr</th>\n",
       "      <th>Mrs</th>\n",
       "      <th>Officer</th>\n",
       "      <th>Royalty</th>\n",
       "      <th>Group</th>\n",
       "      <th>C</th>\n",
       "      <th>Q</th>\n",
       "      <th>S</th>\n",
       "    </tr>\n",
       "  </thead>\n",
       "  <tbody>\n",
       "    <tr>\n",
       "      <th>0</th>\n",
       "      <td>892</td>\n",
       "      <td>3</td>\n",
       "      <td>0</td>\n",
       "      <td>34.5</td>\n",
       "      <td>0</td>\n",
       "      <td>0</td>\n",
       "      <td>7.8292</td>\n",
       "      <td>0</td>\n",
       "      <td>0</td>\n",
       "      <td>1</td>\n",
       "      <td>0</td>\n",
       "      <td>0</td>\n",
       "      <td>0</td>\n",
       "      <td>0</td>\n",
       "      <td>0</td>\n",
       "      <td>1</td>\n",
       "      <td>0</td>\n",
       "    </tr>\n",
       "    <tr>\n",
       "      <th>1</th>\n",
       "      <td>893</td>\n",
       "      <td>3</td>\n",
       "      <td>1</td>\n",
       "      <td>47.0</td>\n",
       "      <td>1</td>\n",
       "      <td>0</td>\n",
       "      <td>7.0000</td>\n",
       "      <td>0</td>\n",
       "      <td>0</td>\n",
       "      <td>0</td>\n",
       "      <td>1</td>\n",
       "      <td>0</td>\n",
       "      <td>0</td>\n",
       "      <td>0</td>\n",
       "      <td>0</td>\n",
       "      <td>0</td>\n",
       "      <td>1</td>\n",
       "    </tr>\n",
       "    <tr>\n",
       "      <th>2</th>\n",
       "      <td>894</td>\n",
       "      <td>2</td>\n",
       "      <td>0</td>\n",
       "      <td>62.0</td>\n",
       "      <td>0</td>\n",
       "      <td>0</td>\n",
       "      <td>9.6875</td>\n",
       "      <td>0</td>\n",
       "      <td>0</td>\n",
       "      <td>1</td>\n",
       "      <td>0</td>\n",
       "      <td>0</td>\n",
       "      <td>0</td>\n",
       "      <td>0</td>\n",
       "      <td>0</td>\n",
       "      <td>1</td>\n",
       "      <td>0</td>\n",
       "    </tr>\n",
       "    <tr>\n",
       "      <th>3</th>\n",
       "      <td>895</td>\n",
       "      <td>3</td>\n",
       "      <td>0</td>\n",
       "      <td>27.0</td>\n",
       "      <td>0</td>\n",
       "      <td>0</td>\n",
       "      <td>8.6625</td>\n",
       "      <td>0</td>\n",
       "      <td>0</td>\n",
       "      <td>1</td>\n",
       "      <td>0</td>\n",
       "      <td>0</td>\n",
       "      <td>0</td>\n",
       "      <td>0</td>\n",
       "      <td>0</td>\n",
       "      <td>0</td>\n",
       "      <td>1</td>\n",
       "    </tr>\n",
       "    <tr>\n",
       "      <th>4</th>\n",
       "      <td>896</td>\n",
       "      <td>3</td>\n",
       "      <td>1</td>\n",
       "      <td>22.0</td>\n",
       "      <td>1</td>\n",
       "      <td>1</td>\n",
       "      <td>12.2875</td>\n",
       "      <td>0</td>\n",
       "      <td>0</td>\n",
       "      <td>0</td>\n",
       "      <td>1</td>\n",
       "      <td>0</td>\n",
       "      <td>0</td>\n",
       "      <td>0</td>\n",
       "      <td>0</td>\n",
       "      <td>0</td>\n",
       "      <td>1</td>\n",
       "    </tr>\n",
       "  </tbody>\n",
       "</table>\n",
       "</div>"
      ],
      "text/plain": [
       "   PassengerId  Pclass  Sex   Age  SibSp  Parch     Fare  Master  Miss  Mr  \\\n",
       "0          892       3    0  34.5      0      0   7.8292       0     0   1   \n",
       "1          893       3    1  47.0      1      0   7.0000       0     0   0   \n",
       "2          894       2    0  62.0      0      0   9.6875       0     0   1   \n",
       "3          895       3    0  27.0      0      0   8.6625       0     0   1   \n",
       "4          896       3    1  22.0      1      1  12.2875       0     0   0   \n",
       "\n",
       "   Mrs  Officer  Royalty  Group  C  Q  S  \n",
       "0    0        0        0      0  0  1  0  \n",
       "1    1        0        0      0  0  0  1  \n",
       "2    0        0        0      0  0  1  0  \n",
       "3    0        0        0      0  0  0  1  \n",
       "4    1        0        0      0  0  0  1  "
      ]
     },
     "execution_count": 37,
     "metadata": {},
     "output_type": "execute_result"
    }
   ],
   "source": [
    "df_test.head()"
   ]
  },
  {
   "cell_type": "markdown",
   "id": "47555dc8",
   "metadata": {},
   "source": [
    "### 2. ベースラインモデルの構築"
   ]
  },
  {
   "cell_type": "markdown",
   "id": "0d81e054",
   "metadata": {},
   "source": [
    "説明変数：PassengerId、Survived以外の変数  \n",
    "目的変数：Survived"
   ]
  },
  {
   "cell_type": "code",
   "execution_count": 38,
   "id": "51e8030d",
   "metadata": {},
   "outputs": [],
   "source": [
    "# 説明変数と目的変数に分割\n",
    "X = df.iloc[:, 2:].values\n",
    "y = df.iloc[:, 1].values\n",
    "\n",
    "X_test = df_test.iloc[:, 1:].values"
   ]
  },
  {
   "cell_type": "code",
   "execution_count": 39,
   "id": "2736a471",
   "metadata": {},
   "outputs": [],
   "source": [
    "# ホールドアウト法によるバリデーション\n",
    "X_train, X_valid, y_train, y_valid = train_test_split(X, y, test_size=0.3, random_state=42)"
   ]
  },
  {
   "cell_type": "markdown",
   "id": "40f1b216",
   "metadata": {},
   "source": [
    "モデル：GBDT"
   ]
  },
  {
   "cell_type": "code",
   "execution_count": 40,
   "id": "fe0a865f",
   "metadata": {},
   "outputs": [
    {
     "name": "stdout",
     "output_type": "stream",
     "text": [
      "Best Parameters: {'colsample_bytree': 1.0, 'max_depth': 5, 'min_child_weight': 5, 'subsample': 0.8}\n",
      "CV Score: 0.849\n"
     ]
    }
   ],
   "source": [
    "# 訓練データを5分割したクロスバリデーションでハイパーパラメータ探索\n",
    "param_grid = {'min_child_weight':[1, 2, 3, 4, 5], 'max_depth':[3, 5, 7, 9], 'colsample_bytree':[0.6, 0.7, 0.8, 0.9, 1.0], 'subsample':[0.6, 0.7, 0.8, 0.9, 1.0]}\n",
    "\n",
    "xgbc_gs = GridSearchCV(xgb.XGBClassifier(random_state=42), param_grid, cv=5)\n",
    "xgbc_gs.fit(X, y)\n",
    "\n",
    "print('Best Parameters: {}'.format(xgbc_gs.best_params_))\n",
    "print('CV Score: {}'.format(round(xgbc_gs.best_score_, 3)))"
   ]
  },
  {
   "cell_type": "code",
   "execution_count": 41,
   "id": "4750740c",
   "metadata": {},
   "outputs": [
    {
     "name": "stdout",
     "output_type": "stream",
     "text": [
      "XGBoost Classifier \n",
      "\n",
      "Train Score: 0.92\n",
      " Test Score: 0.828\n"
     ]
    }
   ],
   "source": [
    "xgbc = xgb.XGBClassifier(**xgbc_gs.best_params_)\n",
    "xgbc.fit(X_train, y_train)\n",
    "\n",
    "print('XGBoost Classifier \\n')\n",
    "print('Train Score: {}'.format(round(xgbc.score(X_train, y_train), 3)))\n",
    "print(' Test Score: {}'.format(round(xgbc.score(X_valid, y_valid), 3)))"
   ]
  },
  {
   "cell_type": "markdown",
   "id": "aee8322a",
   "metadata": {},
   "source": [
    "### 3. 特徴量エンジニアリング"
   ]
  },
  {
   "cell_type": "markdown",
   "id": "d14bc132",
   "metadata": {},
   "source": [
    "SibSpとParchの2つの値の和をとってFamiliy(同乗していた家族の人数)という新たな特徴量を作り出す。"
   ]
  },
  {
   "cell_type": "code",
   "execution_count": 42,
   "id": "5c2fc3d1",
   "metadata": {},
   "outputs": [
    {
     "data": {
      "text/html": [
       "<div>\n",
       "<style scoped>\n",
       "    .dataframe tbody tr th:only-of-type {\n",
       "        vertical-align: middle;\n",
       "    }\n",
       "\n",
       "    .dataframe tbody tr th {\n",
       "        vertical-align: top;\n",
       "    }\n",
       "\n",
       "    .dataframe thead th {\n",
       "        text-align: right;\n",
       "    }\n",
       "</style>\n",
       "<table border=\"1\" class=\"dataframe\">\n",
       "  <thead>\n",
       "    <tr style=\"text-align: right;\">\n",
       "      <th></th>\n",
       "      <th>PassengerId</th>\n",
       "      <th>Survived</th>\n",
       "      <th>Pclass</th>\n",
       "      <th>Sex</th>\n",
       "      <th>Age</th>\n",
       "      <th>SibSp</th>\n",
       "      <th>Parch</th>\n",
       "      <th>Fare</th>\n",
       "      <th>Master</th>\n",
       "      <th>Miss</th>\n",
       "      <th>Mr</th>\n",
       "      <th>Mrs</th>\n",
       "      <th>Officer</th>\n",
       "      <th>Royalty</th>\n",
       "      <th>Group</th>\n",
       "      <th>C</th>\n",
       "      <th>Q</th>\n",
       "      <th>S</th>\n",
       "      <th>Family</th>\n",
       "    </tr>\n",
       "  </thead>\n",
       "  <tbody>\n",
       "    <tr>\n",
       "      <th>0</th>\n",
       "      <td>1</td>\n",
       "      <td>0</td>\n",
       "      <td>3</td>\n",
       "      <td>0</td>\n",
       "      <td>22.0</td>\n",
       "      <td>1</td>\n",
       "      <td>0</td>\n",
       "      <td>7.2500</td>\n",
       "      <td>0</td>\n",
       "      <td>0</td>\n",
       "      <td>1</td>\n",
       "      <td>0</td>\n",
       "      <td>0</td>\n",
       "      <td>0</td>\n",
       "      <td>0</td>\n",
       "      <td>0</td>\n",
       "      <td>0</td>\n",
       "      <td>1</td>\n",
       "      <td>1</td>\n",
       "    </tr>\n",
       "    <tr>\n",
       "      <th>1</th>\n",
       "      <td>2</td>\n",
       "      <td>1</td>\n",
       "      <td>1</td>\n",
       "      <td>1</td>\n",
       "      <td>38.0</td>\n",
       "      <td>1</td>\n",
       "      <td>0</td>\n",
       "      <td>71.2833</td>\n",
       "      <td>0</td>\n",
       "      <td>0</td>\n",
       "      <td>0</td>\n",
       "      <td>1</td>\n",
       "      <td>0</td>\n",
       "      <td>0</td>\n",
       "      <td>0</td>\n",
       "      <td>1</td>\n",
       "      <td>0</td>\n",
       "      <td>0</td>\n",
       "      <td>1</td>\n",
       "    </tr>\n",
       "    <tr>\n",
       "      <th>2</th>\n",
       "      <td>3</td>\n",
       "      <td>1</td>\n",
       "      <td>3</td>\n",
       "      <td>1</td>\n",
       "      <td>26.0</td>\n",
       "      <td>0</td>\n",
       "      <td>0</td>\n",
       "      <td>7.9250</td>\n",
       "      <td>0</td>\n",
       "      <td>1</td>\n",
       "      <td>0</td>\n",
       "      <td>0</td>\n",
       "      <td>0</td>\n",
       "      <td>0</td>\n",
       "      <td>0</td>\n",
       "      <td>0</td>\n",
       "      <td>0</td>\n",
       "      <td>1</td>\n",
       "      <td>0</td>\n",
       "    </tr>\n",
       "    <tr>\n",
       "      <th>3</th>\n",
       "      <td>4</td>\n",
       "      <td>1</td>\n",
       "      <td>1</td>\n",
       "      <td>1</td>\n",
       "      <td>35.0</td>\n",
       "      <td>1</td>\n",
       "      <td>0</td>\n",
       "      <td>53.1000</td>\n",
       "      <td>0</td>\n",
       "      <td>0</td>\n",
       "      <td>0</td>\n",
       "      <td>1</td>\n",
       "      <td>0</td>\n",
       "      <td>0</td>\n",
       "      <td>0</td>\n",
       "      <td>0</td>\n",
       "      <td>0</td>\n",
       "      <td>1</td>\n",
       "      <td>1</td>\n",
       "    </tr>\n",
       "    <tr>\n",
       "      <th>4</th>\n",
       "      <td>5</td>\n",
       "      <td>0</td>\n",
       "      <td>3</td>\n",
       "      <td>0</td>\n",
       "      <td>35.0</td>\n",
       "      <td>0</td>\n",
       "      <td>0</td>\n",
       "      <td>8.0500</td>\n",
       "      <td>0</td>\n",
       "      <td>0</td>\n",
       "      <td>1</td>\n",
       "      <td>0</td>\n",
       "      <td>0</td>\n",
       "      <td>0</td>\n",
       "      <td>0</td>\n",
       "      <td>0</td>\n",
       "      <td>0</td>\n",
       "      <td>1</td>\n",
       "      <td>0</td>\n",
       "    </tr>\n",
       "  </tbody>\n",
       "</table>\n",
       "</div>"
      ],
      "text/plain": [
       "   PassengerId  Survived  Pclass  Sex   Age  SibSp  Parch     Fare  Master  \\\n",
       "0            1         0       3    0  22.0      1      0   7.2500       0   \n",
       "1            2         1       1    1  38.0      1      0  71.2833       0   \n",
       "2            3         1       3    1  26.0      0      0   7.9250       0   \n",
       "3            4         1       1    1  35.0      1      0  53.1000       0   \n",
       "4            5         0       3    0  35.0      0      0   8.0500       0   \n",
       "\n",
       "   Miss  Mr  Mrs  Officer  Royalty  Group  C  Q  S  Family  \n",
       "0     0   1    0        0        0      0  0  0  1       1  \n",
       "1     0   0    1        0        0      0  1  0  0       1  \n",
       "2     1   0    0        0        0      0  0  0  1       0  \n",
       "3     0   0    1        0        0      0  0  0  1       1  \n",
       "4     0   1    0        0        0      0  0  0  1       0  "
      ]
     },
     "execution_count": 42,
     "metadata": {},
     "output_type": "execute_result"
    }
   ],
   "source": [
    "df_fe = df.copy()\n",
    "df_fe_test = df_test.copy()\n",
    "\n",
    "df_fe['Family'] = df['SibSp'] + df['Parch']\n",
    "df_fe_test['Family'] = df_test['SibSp'] + df_test['Parch']\n",
    "\n",
    "df_fe.head()"
   ]
  },
  {
   "cell_type": "code",
   "execution_count": 43,
   "id": "d5db385b",
   "metadata": {},
   "outputs": [],
   "source": [
    "# 説明変数と目的変数に分割\n",
    "X_fe = df_fe.iloc[:, 2:].values\n",
    "y_fe = df_fe.iloc[:, 1].values\n",
    "\n",
    "X_fe_test = df_fe_test.iloc[:, 1:].values"
   ]
  },
  {
   "cell_type": "code",
   "execution_count": 44,
   "id": "a9638107",
   "metadata": {},
   "outputs": [],
   "source": [
    "# ホールドアウト法によるバリデーション\n",
    "X_fe_train, X_fe_valid, y_fe_train, y_fe_valid = train_test_split(X_fe, y_fe, test_size=0.3, random_state=42)"
   ]
  },
  {
   "cell_type": "code",
   "execution_count": 45,
   "id": "d79bda8b",
   "metadata": {},
   "outputs": [
    {
     "name": "stdout",
     "output_type": "stream",
     "text": [
      "Best Parameters: {'colsample_bytree': 1.0, 'max_depth': 5, 'min_child_weight': 5, 'subsample': 0.7}\n",
      "CV Score: 0.846\n"
     ]
    }
   ],
   "source": [
    "# 訓練データを5分割したクロスバリデーションでハイパーパラメータ探索\n",
    "param_grid = {'min_child_weight':[1, 2, 3, 4, 5], 'max_depth':[3, 5, 7, 9], 'colsample_bytree':[0.6, 0.7, 0.8, 0.9, 1.0], 'subsample':[0.6, 0.7, 0.8, 0.9, 1.0]}\n",
    "\n",
    "xgbc_gs_fe = GridSearchCV(xgb.XGBClassifier(random_state=42), param_grid, cv=5)\n",
    "xgbc_gs_fe.fit(X_fe, y_fe)\n",
    "\n",
    "print('Best Parameters: {}'.format(xgbc_gs_fe.best_params_))\n",
    "print('CV Score: {}'.format(round(xgbc_gs_fe.best_score_, 3)))"
   ]
  },
  {
   "cell_type": "code",
   "execution_count": 46,
   "id": "93779c86",
   "metadata": {},
   "outputs": [
    {
     "name": "stdout",
     "output_type": "stream",
     "text": [
      "fe_XGBoost Classifier \n",
      "\n",
      "Train Score: 0.915\n",
      " Test Score: 0.817\n"
     ]
    }
   ],
   "source": [
    "xgbc_fe = xgb.XGBClassifier(**xgbc_gs_fe.best_params_)\n",
    "xgbc_fe.fit(X_fe_train, y_fe_train)\n",
    "\n",
    "print('fe_XGBoost Classifier \\n')\n",
    "print('Train Score: {}'.format(round(xgbc_fe.score(X_fe_train, y_fe_train), 3)))\n",
    "print(' Test Score: {}'.format(round(xgbc_fe.score(X_fe_valid, y_fe_valid), 3)))"
   ]
  },
  {
   "cell_type": "markdown",
   "id": "d3921b5c",
   "metadata": {},
   "source": [
    "精度が下がってしまったため、採用しない。"
   ]
  },
  {
   "cell_type": "markdown",
   "id": "ef9c260a",
   "metadata": {},
   "source": [
    "### 4. 様々なモデルの構築・調整"
   ]
  },
  {
   "cell_type": "markdown",
   "id": "21ca548a",
   "metadata": {},
   "source": [
    "モデル：多層パーセプトロン"
   ]
  },
  {
   "cell_type": "code",
   "execution_count": 47,
   "id": "6b4253e2",
   "metadata": {},
   "outputs": [
    {
     "name": "stdout",
     "output_type": "stream",
     "text": [
      "Best Parameters: {'activation': 'logistic', 'hidden_layer_sizes': (256, 256, 256), 'learning_rate': 'invscaling'}\n",
      "CV Score: 0.824\n"
     ]
    }
   ],
   "source": [
    "# 訓練データを5分割したクロスバリデーションでハイパーパラメータ探索\n",
    "param_grid = {'hidden_layer_sizes':[(256, 256), (256, 256, 256), (256, 256, 256, 256)],\n",
    "             'learning_rate':['invscaling', 'adaptive', 'constant'],\n",
    "             'activation':['logistic', 'identity', 'relu', 'tanh']}\n",
    "mlpc_gs = GridSearchCV(MLPClassifier(random_state=42), param_grid, cv=5)\n",
    "mlpc_gs.fit(X, y)\n",
    "\n",
    "print('Best Parameters: {}'.format(mlpc_gs.best_params_))\n",
    "print('CV Score: {}'.format(round(mlpc_gs.best_score_, 3)))"
   ]
  },
  {
   "cell_type": "code",
   "execution_count": 48,
   "id": "e1c009bd",
   "metadata": {},
   "outputs": [
    {
     "name": "stdout",
     "output_type": "stream",
     "text": [
      "MLP Classifier \n",
      "\n",
      "Train Score: 0.833\n",
      "Test Score: 0.813\n"
     ]
    }
   ],
   "source": [
    "# MLPClassifier\n",
    "mlpc = MLPClassifier(**mlpc_gs.best_params_)\n",
    "mlpc.fit(X_train, y_train)\n",
    "\n",
    "print('MLP Classifier \\n')\n",
    "print('Train Score: {}'.format(round(mlpc.score(X_train, y_train), 3)))\n",
    "print('Test Score: {}'.format(round(mlpc.score(X_valid, y_valid), 3)))"
   ]
  },
  {
   "cell_type": "markdown",
   "id": "22a2d1ff",
   "metadata": {},
   "source": [
    "モデル：ロジスティック回帰"
   ]
  },
  {
   "cell_type": "code",
   "execution_count": 49,
   "id": "53514662",
   "metadata": {},
   "outputs": [
    {
     "name": "stdout",
     "output_type": "stream",
     "text": [
      "Best Parameters: {'C': 10}\n",
      "CV Score: 0.826\n"
     ]
    }
   ],
   "source": [
    "# 訓練データを5分割したクロスバリデーションでハイパーパラメータ探索\n",
    "param_grid = {'C' : [0.001, 0.01, 0.1, 1, 10, 100]}\n",
    "\n",
    "lr_gs = GridSearchCV(LogisticRegression(random_state=42), param_grid, cv=5)\n",
    "lr_gs.fit(X, y)\n",
    "\n",
    "print('Best Parameters: {}'.format(lr_gs.best_params_))\n",
    "print('CV Score: {}'.format(round(lr_gs.best_score_, 3)))"
   ]
  },
  {
   "cell_type": "code",
   "execution_count": 50,
   "id": "e930e68a",
   "metadata": {},
   "outputs": [
    {
     "name": "stdout",
     "output_type": "stream",
     "text": [
      "Logistic Regression \n",
      "\n",
      "Train Score: 0.831\n",
      "Test Score: 0.825\n"
     ]
    }
   ],
   "source": [
    "# ロジスティック回帰モデルを作成し、疑似訓練データ(X_train, y_train)を学習させる\n",
    "lr = LogisticRegression(**lr_gs.best_params_)\n",
    "lr.fit(X_train, y_train)\n",
    "\n",
    "print('Logistic Regression \\n')\n",
    "print('Train Score: {}'.format(round(lr.score(X_train, y_train), 3)))\n",
    "print('Test Score: {}'.format(round(lr.score(X_valid, y_valid), 3)))"
   ]
  },
  {
   "cell_type": "markdown",
   "id": "ee9a6682",
   "metadata": {},
   "source": [
    "モデル：ランダムフォレスト"
   ]
  },
  {
   "cell_type": "code",
   "execution_count": 51,
   "id": "87fc90b8",
   "metadata": {},
   "outputs": [
    {
     "name": "stdout",
     "output_type": "stream",
     "text": [
      "Best Parameters: {'max_depth': 5, 'min_samples_leaf': 4}\n",
      "CV Score: 0.827\n"
     ]
    }
   ],
   "source": [
    "# 訓練データを5分割したクロスバリデーションでハイパーパラメータ探索\n",
    "param_grid = {'max_depth': [3, 5, 7], 'min_samples_leaf': [1, 2, 4]}\n",
    "\n",
    "rfc_gs = GridSearchCV(RandomForestClassifier(n_estimators=100, n_jobs=-1, random_state=42), param_grid, cv=5)\n",
    "rfc_gs.fit(X, y)\n",
    "\n",
    "print('Best Parameters: {}'.format(rfc_gs.best_params_))\n",
    "print('CV Score: {}'.format(round(rfc_gs.best_score_, 3)))"
   ]
  },
  {
   "cell_type": "code",
   "execution_count": 52,
   "id": "d4c96652",
   "metadata": {},
   "outputs": [
    {
     "name": "stdout",
     "output_type": "stream",
     "text": [
      "Random Forest Classifier \n",
      "\n",
      "Train Score: 0.856\n",
      "Test Score: 0.832\n"
     ]
    }
   ],
   "source": [
    "# ランダムフォレストモデルを作成し、疑似訓練データ(X_train, y_train)を学習させる\n",
    "rfc = RandomForestClassifier(**rfc_gs.best_params_)\n",
    "rfc.fit(X_train, y_train)\n",
    "\n",
    "print('Random Forest Classifier \\n')\n",
    "print('Train Score: {}'.format(round(rfc.score(X_train, y_train), 3)))\n",
    "print('Test Score: {}'.format(round(rfc.score(X_valid, y_valid), 3)))"
   ]
  },
  {
   "cell_type": "markdown",
   "id": "819fe5e2",
   "metadata": {},
   "source": [
    "### 5. モデルのアンサンブル"
   ]
  },
  {
   "cell_type": "markdown",
   "id": "96386156",
   "metadata": {},
   "source": [
    "今回は単純に4つのモデルの予測値の算術平均を四捨五入して予測とする。"
   ]
  },
  {
   "cell_type": "code",
   "execution_count": 53,
   "id": "a0838f39",
   "metadata": {},
   "outputs": [],
   "source": [
    "xgbc_proba = xgbc.predict_proba(X_test)\n",
    "mlpc_proba = mlpc.predict_proba(X_test)\n",
    "lr_proba = lr.predict_proba(X_test)\n",
    "rfc_proba = rfc.predict_proba(X_test)\n",
    "ensemble_proba = (xgbc_proba + mlpc_proba + lr_proba + rfc_proba) / 4"
   ]
  },
  {
   "cell_type": "markdown",
   "id": "19a3ed5e",
   "metadata": {},
   "source": [
    "### 6. 予測の出力・提出"
   ]
  },
  {
   "cell_type": "markdown",
   "id": "3636c3ec",
   "metadata": {},
   "source": [
    "単一モデル(xgbc、mlpc、lr、rfc)とアンサンブルモデルの予測をそれぞれ出力し、提出する。"
   ]
  },
  {
   "cell_type": "code",
   "execution_count": 54,
   "id": "ec91b335",
   "metadata": {},
   "outputs": [],
   "source": [
    "# xgbc\n",
    "xgbc_pred = xgbc_proba.argmax(axis=1)\n",
    "xgbc_submission = pd.DataFrame(df_test['PassengerId'], columns=['PassengerId'])\n",
    "xgbc_submission['Survived'] = xgbc_pred\n",
    "\n",
    "xgbc_submission.to_csv('data/xgbc_submission.csv', index=False)"
   ]
  },
  {
   "cell_type": "code",
   "execution_count": 55,
   "id": "de6e8c0d",
   "metadata": {},
   "outputs": [],
   "source": [
    "# mlpc\n",
    "mlpc_pred = mlpc_proba.argmax(axis=1)\n",
    "mlpc_submission = pd.DataFrame(df_test['PassengerId'], columns=['PassengerId'])\n",
    "mlpc_submission['Survived'] = mlpc_pred\n",
    "\n",
    "mlpc_submission.to_csv('data/mlpc_submission.csv', index=False)"
   ]
  },
  {
   "cell_type": "code",
   "execution_count": 56,
   "id": "5174c013",
   "metadata": {},
   "outputs": [],
   "source": [
    "# lr\n",
    "lr_pred = lr_proba.argmax(axis=1)\n",
    "lr_submission = pd.DataFrame(df_test['PassengerId'], columns=['PassengerId'])\n",
    "lr_submission['Survived'] = lr_pred\n",
    "\n",
    "lr_submission.to_csv('data/lr_submission.csv', index=False)"
   ]
  },
  {
   "cell_type": "code",
   "execution_count": 57,
   "id": "468c1359",
   "metadata": {},
   "outputs": [],
   "source": [
    "# rfc\n",
    "rfc_pred = rfc_proba.argmax(axis=1)\n",
    "rfc_submission = pd.DataFrame(df_test['PassengerId'], columns=['PassengerId'])\n",
    "rfc_submission['Survived'] = rfc_pred\n",
    "\n",
    "rfc_submission.to_csv('data/rfc_submission.csv', index=False)"
   ]
  },
  {
   "cell_type": "code",
   "execution_count": 58,
   "id": "ce07f4ba",
   "metadata": {},
   "outputs": [],
   "source": [
    "# ensemble\n",
    "ensemble_pred = ensemble_proba.argmax(axis=1)\n",
    "ensemble_submission = pd.DataFrame(df_test['PassengerId'], columns=['PassengerId'])\n",
    "ensemble_submission['Survived'] = ensemble_pred\n",
    "\n",
    "ensemble_submission.to_csv('data/ensemble_submission.csv', index=False)"
   ]
  },
  {
   "cell_type": "markdown",
   "id": "fe856f87",
   "metadata": {},
   "source": [
    "### 7. 結果"
   ]
  },
  {
   "cell_type": "markdown",
   "id": "c64130e6",
   "metadata": {},
   "source": [
    "モデル | Score \n",
    "---|---|\n",
    "xgbc | 0.73684\n",
    "mlpc | 0.77272\n",
    "lr | 0.77033\n",
    "rfc | 0.77751\n",
    "ensemble | 0.76794"
   ]
  },
  {
   "cell_type": "markdown",
   "id": "e7987146",
   "metadata": {},
   "source": [
    "4つのモデルをアンサンブルしたモデルが1番精度が高いと予想していたが、ランダムフォレスト単一モデルが最も精度が高かった。   \n",
    "GBDT(xgbc)とランダムフォレスト(rfc)が決定木モデルとして手法が被ったのが良くなかったのではないかと仮説を立てた。  \n",
    "そこで、GBDT(xgbc)モデルを除いたアンサンブル学習を行なってみる。"
   ]
  },
  {
   "cell_type": "code",
   "execution_count": 59,
   "id": "1a0a570a",
   "metadata": {},
   "outputs": [],
   "source": [
    "# ensemble2\n",
    "ensemble2_proba = (mlpc_proba + lr_proba + rfc_proba) / 3\n",
    "\n",
    "ensemble2_pred = ensemble2_proba.argmax(axis=1)\n",
    "ensemble2_submission = pd.DataFrame(df_test['PassengerId'], columns=['PassengerId'])\n",
    "ensemble2_submission['Survived'] = ensemble2_pred\n",
    "\n",
    "ensemble2_submission.to_csv('data/ensemble2_submission.csv', index=False)"
   ]
  },
  {
   "cell_type": "markdown",
   "id": "050d686b",
   "metadata": {},
   "source": [
    "モデル | Score \n",
    "---|---|\n",
    "ensemble | 0.76794\n",
    "ensemble2 | 0.77511\n",
    "rfc | 0.77751"
   ]
  },
  {
   "cell_type": "markdown",
   "id": "b2d049fe",
   "metadata": {},
   "source": [
    "mlpcとlr、rfcのアンサンブル学習を行ったensemble2モデルはensembleモデルと比べて0.01684だけ精度が上がったが、依然ランダムフォレスト単一モデルが最も精度が高い。今回はアンサンブル学習を単純に複数のモデルの算術平均を四捨五入して予測としたが、加重平均を用いたり、バンキングやブースティング、スタッキングといったアンサンブル手法を用いることで精度の向上があるかもしれない。\n",
    "  \n",
    "    \n",
    "\n",
    "\n",
    "\n",
    "\n"
   ]
  },
  {
   "cell_type": "markdown",
   "id": "a40668e2",
   "metadata": {},
   "source": [
    "### 8. 感想"
   ]
  },
  {
   "cell_type": "markdown",
   "id": "4b3464c8",
   "metadata": {},
   "source": [
    "Kaggleのチュートリアルであるtitanicの生存者予測のモデル作成を通して、データ分析の一連の流れを体験できた。工夫した点としては、データをさまざまな角度から可視化することでデータの特徴や構造を掴もうとした点や複数のモデルを作成し、精度比較やアンサンブル学習を行なった点が挙げられる。今回はシンプルなハイパーパラメータチューニングやアンサンブル学習を行なったため、次回分析をする際は他の手法にも挑戦してみたい。また、単にアンサンブル学習をすれば精度が上がるわけではないということが今回の分析を通してわかった。Kaggle competitionへの参加は初めてだったが、Titanicの若干平均0.769の精度を上回る0.77751という値を出せたことは素直に喜ばしい。"
   ]
  }
 ],
 "metadata": {
  "kernelspec": {
   "display_name": "Python 3",
   "language": "python",
   "name": "python3"
  },
  "language_info": {
   "codemirror_mode": {
    "name": "ipython",
    "version": 3
   },
   "file_extension": ".py",
   "mimetype": "text/x-python",
   "name": "python",
   "nbconvert_exporter": "python",
   "pygments_lexer": "ipython3",
   "version": "3.9.12"
  }
 },
 "nbformat": 4,
 "nbformat_minor": 5
}
